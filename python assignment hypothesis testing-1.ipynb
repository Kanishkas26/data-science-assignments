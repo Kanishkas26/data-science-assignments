{
 "cells": [
  {
   "cell_type": "code",
   "execution_count": 1,
   "id": "075c216c",
   "metadata": {},
   "outputs": [],
   "source": [
    "##\n",
    "#ˉxˉ = sample mean weekly cost (Rs. 3,050)\n",
    "#μ = theoretical mean weekly cost according to the cost model (W = $1,000 + $5X for X = 600 units)\n",
    "#σ = 5*25 units\n",
    "#n = sample size (25 restaurants)\n"
   ]
  },
  {
   "cell_type": "code",
   "execution_count": 2,
   "id": "66f7f6b2",
   "metadata": {},
   "outputs": [],
   "source": [
    "import numpy as np\n",
    "from scipy import stats"
   ]
  },
  {
   "cell_type": "code",
   "execution_count": 3,
   "id": "7985b8e2",
   "metadata": {},
   "outputs": [],
   "source": [
    "## stating the hypothesis statement\n",
    "## since the restaurant owners claimes the mean weekly cost to be higher that is why i have taken alternative hypothesis\n",
    "# greater than 4000. So it will be a right-tailed z-test.\n",
    "\n",
    "null_hypothesis = μ = 4000\n",
    "alternate_hypothesis = μ > 4000"
   ]
  },
  {
   "cell_type": "markdown",
   "id": "9423d2d3",
   "metadata": {},
   "source": [
    "# calculating the test-statstic"
   ]
  },
  {
   "cell_type": "code",
   "execution_count": 4,
   "id": "11f2f09d",
   "metadata": {},
   "outputs": [],
   "source": [
    "x_mean = 3050\n",
    "theoretical_mean = 4000 # W = $1000 + $5*600 = 4000\n",
    "population_std_dev = 125 \n",
    "sample_size = 25"
   ]
  },
  {
   "cell_type": "code",
   "execution_count": 7,
   "id": "34e74a45",
   "metadata": {},
   "outputs": [
    {
     "data": {
      "text/plain": [
       "25.0"
      ]
     },
     "execution_count": 7,
     "metadata": {},
     "output_type": "execute_result"
    }
   ],
   "source": [
    "standard_error = population_std_dev/np.sqrt(sample_size)\n",
    "standard_error"
   ]
  },
  {
   "cell_type": "code",
   "execution_count": 9,
   "id": "aad3ec20",
   "metadata": {},
   "outputs": [
    {
     "data": {
      "text/plain": [
       "-38.0"
      ]
     },
     "execution_count": 9,
     "metadata": {},
     "output_type": "execute_result"
    }
   ],
   "source": [
    "z_statistic = (x_mean-theoretical_mean)/standard_error\n",
    "z_statistic"
   ]
  },
  {
   "cell_type": "code",
   "execution_count": 13,
   "id": "9f224cd1",
   "metadata": {},
   "outputs": [],
   "source": [
    "alpha = 0.05\n",
    "\n",
    "z_critical = stats.norm.ppf(1-alpha)"
   ]
  },
  {
   "cell_type": "code",
   "execution_count": 14,
   "id": "64fa48fe",
   "metadata": {},
   "outputs": [
    {
     "data": {
      "text/plain": [
       "1.6448536269514722"
      ]
     },
     "execution_count": 14,
     "metadata": {},
     "output_type": "execute_result"
    }
   ],
   "source": [
    "z_critical"
   ]
  },
  {
   "cell_type": "code",
   "execution_count": 15,
   "id": "ee1e40a6",
   "metadata": {},
   "outputs": [
    {
     "name": "stdout",
     "output_type": "stream",
     "text": [
      "reject null hyothesis\n"
     ]
    }
   ],
   "source": [
    "if z_statistic < z_critical:\n",
    "    print(\"reject null hyothesis\")\n",
    "else:\n",
    "    print(\"do not reject null hypothesis\")"
   ]
  },
  {
   "cell_type": "markdown",
   "id": "74b0b5bf",
   "metadata": {},
   "source": [
    "# as per the above calculation we concluded that restuarant owners's claim that there is increase in weekly operating cost is\n",
    "# true"
   ]
  },
  {
   "cell_type": "code",
   "execution_count": null,
   "id": "7d1a0358",
   "metadata": {},
   "outputs": [],
   "source": []
  },
  {
   "cell_type": "code",
   "execution_count": null,
   "id": "4122ded7",
   "metadata": {},
   "outputs": [],
   "source": []
  },
  {
   "cell_type": "code",
   "execution_count": null,
   "id": "fe75a7db",
   "metadata": {},
   "outputs": [],
   "source": []
  },
  {
   "cell_type": "code",
   "execution_count": null,
   "id": "9a159cfd",
   "metadata": {},
   "outputs": [],
   "source": []
  },
  {
   "cell_type": "code",
   "execution_count": null,
   "id": "ec475b2d",
   "metadata": {},
   "outputs": [],
   "source": []
  },
  {
   "cell_type": "code",
   "execution_count": null,
   "id": "7832f5fd",
   "metadata": {},
   "outputs": [],
   "source": []
  },
  {
   "cell_type": "code",
   "execution_count": null,
   "id": "390e2ba5",
   "metadata": {},
   "outputs": [],
   "source": []
  }
 ],
 "metadata": {
  "kernelspec": {
   "display_name": "Python 3 (ipykernel)",
   "language": "python",
   "name": "python3"
  },
  "language_info": {
   "codemirror_mode": {
    "name": "ipython",
    "version": 3
   },
   "file_extension": ".py",
   "mimetype": "text/x-python",
   "name": "python",
   "nbconvert_exporter": "python",
   "pygments_lexer": "ipython3",
   "version": "3.11.5"
  }
 },
 "nbformat": 4,
 "nbformat_minor": 5
}
