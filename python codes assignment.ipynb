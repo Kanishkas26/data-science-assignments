{
 "cells": [
  {
   "cell_type": "markdown",
   "id": "9317225b",
   "metadata": {},
   "source": [
    "# question 1"
   ]
  },
  {
   "cell_type": "code",
   "execution_count": 1,
   "id": "2153b6f8",
   "metadata": {},
   "outputs": [
    {
     "name": "stdout",
     "output_type": "stream",
     "text": [
      "enter a number here: 5\n",
      "it is a prime number\n"
     ]
    }
   ],
   "source": [
    "# input from the user\n",
    "num = int(input(\"enter a number here: \"))\n",
    "\n",
    "# 1 is not a prime number\n",
    "if num == 1:\n",
    "    print('it is not a prime number')\n",
    "    \n",
    "elif num > 1: ##check the factors from 2 to number entered\n",
    "    for i in range (2,num):\n",
    "        if num % i == 0: ## if remainder is 0 then not a prime number\n",
    "            print('it is not a prime number')\n",
    "            break\n",
    "    else:     ## if no factors are found number is prime\n",
    "        print('it is a prime number')"
   ]
  },
  {
   "cell_type": "markdown",
   "id": "595a6432",
   "metadata": {},
   "source": [
    "# question 2"
   ]
  },
  {
   "cell_type": "code",
   "execution_count": 2,
   "id": "bbc463d8",
   "metadata": {},
   "outputs": [],
   "source": [
    "import random"
   ]
  },
  {
   "cell_type": "code",
   "execution_count": 4,
   "id": "dc44d73c",
   "metadata": {},
   "outputs": [],
   "source": [
    "def random_multiplication():\n",
    "    num1 = random.randint(1, 10)\n",
    "    num2 = random.randint(1, 10)\n",
    "    \n",
    "    correct_answer = num1*num2\n",
    "    \n",
    "    user_answer = int(input(f\"what is the product of {num1} and {num2}: \"))\n",
    "    \n",
    "    if user_answer==correct_answer:\n",
    "        print(\"correct\")\n",
    "    else :\n",
    "        print(f\"incorrect. the correct answer is {correct_answer}\")"
   ]
  },
  {
   "cell_type": "code",
   "execution_count": 6,
   "id": "6a7e61c6",
   "metadata": {},
   "outputs": [
    {
     "name": "stdout",
     "output_type": "stream",
     "text": [
      "what is the product of 5 and 9: 45\n",
      "correct\n"
     ]
    }
   ],
   "source": [
    "random_multiplication()"
   ]
  },
  {
   "cell_type": "markdown",
   "id": "ee327874",
   "metadata": {},
   "source": [
    "# question 3"
   ]
  },
  {
   "cell_type": "code",
   "execution_count": 10,
   "id": "7b50afb4",
   "metadata": {},
   "outputs": [
    {
     "name": "stdout",
     "output_type": "stream",
     "text": [
      "square of 100 is 10000\n",
      "square of 102 is 10404\n",
      "square of 104 is 10816\n",
      "square of 106 is 11236\n",
      "square of 108 is 11664\n",
      "square of 110 is 12100\n",
      "square of 112 is 12544\n",
      "square of 114 is 12996\n",
      "square of 116 is 13456\n",
      "square of 118 is 13924\n",
      "square of 120 is 14400\n",
      "square of 122 is 14884\n",
      "square of 124 is 15376\n",
      "square of 126 is 15876\n",
      "square of 128 is 16384\n",
      "square of 130 is 16900\n",
      "square of 132 is 17424\n",
      "square of 134 is 17956\n",
      "square of 136 is 18496\n",
      "square of 138 is 19044\n",
      "square of 140 is 19600\n",
      "square of 142 is 20164\n",
      "square of 144 is 20736\n",
      "square of 146 is 21316\n",
      "square of 148 is 21904\n",
      "square of 150 is 22500\n",
      "square of 152 is 23104\n",
      "square of 154 is 23716\n",
      "square of 156 is 24336\n",
      "square of 158 is 24964\n",
      "square of 160 is 25600\n",
      "square of 162 is 26244\n",
      "square of 164 is 26896\n",
      "square of 166 is 27556\n",
      "square of 168 is 28224\n",
      "square of 170 is 28900\n",
      "square of 172 is 29584\n",
      "square of 174 is 30276\n",
      "square of 176 is 30976\n",
      "square of 178 is 31684\n",
      "square of 180 is 32400\n",
      "square of 182 is 33124\n",
      "square of 184 is 33856\n",
      "square of 186 is 34596\n",
      "square of 188 is 35344\n",
      "square of 190 is 36100\n",
      "square of 192 is 36864\n",
      "square of 194 is 37636\n",
      "square of 196 is 38416\n",
      "square of 198 is 39204\n"
     ]
    }
   ],
   "source": [
    "## taking even numbers. even numbers are numbers which are divisible by 2\n",
    "for num in range(100,200):\n",
    "    if num % 2 == 0:\n",
    "        square = num**2 # square of number is num**2\n",
    "        print(f\"square of {num} is {square}\")"
   ]
  },
  {
   "cell_type": "markdown",
   "id": "36fb1994",
   "metadata": {},
   "source": [
    "# question 4"
   ]
  },
  {
   "cell_type": "code",
   "execution_count": 11,
   "id": "402261bb",
   "metadata": {},
   "outputs": [],
   "source": [
    "from collections import Counter"
   ]
  },
  {
   "cell_type": "code",
   "execution_count": 14,
   "id": "3320a750",
   "metadata": {},
   "outputs": [
    {
     "name": "stdout",
     "output_type": "stream",
     "text": [
      "my:2\n",
      "name:1\n",
      "is:2\n",
      "kanishka.:1\n",
      "this:1\n",
      "python:1\n",
      "assignment:1\n"
     ]
    }
   ],
   "source": [
    "def word_count(text):\n",
    "    text = text.lower() # converting text into lower case\n",
    "    words = text.split() # split the text into words\n",
    "    counted_words = Counter(words) ## count the number of words in the given input text\n",
    "    return counted_words\n",
    "\n",
    "input_text = \"My Name is Kanishka. This is my python assignment\"\n",
    "counted_words = word_count(input_text)\n",
    "\n",
    "for word, count in counted_words.items():\n",
    "    print(f\"{word}:{count}\")"
   ]
  },
  {
   "cell_type": "markdown",
   "id": "c3423440",
   "metadata": {},
   "source": [
    "# question 5"
   ]
  },
  {
   "cell_type": "code",
   "execution_count": 15,
   "id": "84b07618",
   "metadata": {},
   "outputs": [],
   "source": [
    "import string"
   ]
  },
  {
   "cell_type": "code",
   "execution_count": 19,
   "id": "13ffaa0a",
   "metadata": {},
   "outputs": [
    {
     "name": "stdout",
     "output_type": "stream",
     "text": [
      "False\n",
      "True\n"
     ]
    }
   ],
   "source": [
    "def check_palindrome(p):\n",
    "    cleaned_str = p.lower() # convert the word into lower text\n",
    "    return cleaned_str == cleaned_str[::-1] ##check if the word is same forwards and backwards\n",
    "\n",
    "print(check_palindrome(\"camel\"))\n",
    "print(check_palindrome(\"madam\"))"
   ]
  },
  {
   "cell_type": "code",
   "execution_count": null,
   "id": "fafa3eb5",
   "metadata": {},
   "outputs": [],
   "source": []
  }
 ],
 "metadata": {
  "kernelspec": {
   "display_name": "Python 3 (ipykernel)",
   "language": "python",
   "name": "python3"
  },
  "language_info": {
   "codemirror_mode": {
    "name": "ipython",
    "version": 3
   },
   "file_extension": ".py",
   "mimetype": "text/x-python",
   "name": "python",
   "nbconvert_exporter": "python",
   "pygments_lexer": "ipython3",
   "version": "3.11.5"
  }
 },
 "nbformat": 4,
 "nbformat_minor": 5
}
